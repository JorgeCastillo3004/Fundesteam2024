{
 "cells": [
  {
   "cell_type": "markdown",
   "id": "657b4b18",
   "metadata": {},
   "source": [
    "# Pandas\n",
    "Pandas es una de las bibliotecas más utilizadas en Python para análisis de datos. Proporciona estructuras de datos de alto rendimiento y fáciles de usar, como DataFrame y Series, que permiten manipular y analizar datos de forma eficiente.\n",
    "\n",
    "### DataFrame:\n",
    "Un DataFrame es una estructura de datos bidimensional similar a una tabla, donde cada columna puede contener diferentes tipos de datos. Se puede pensar en un DataFrame como una hoja de cálculo o una tabla SQL. Se puede crear un DataFrame a partir de varios tipos de datos, como diccionarios, listas, matrices NumPy o archivos CSV.\n",
    "\n",
    "Ejemplo de creación de un DataFrame a partir de un diccionario:\n",
    "```python\n",
    "import pandas as pd\n",
    "\n",
    "data = {'Nombre': ['Juan', 'María', 'Pedro'],\n",
    "        'Edad': [25, 30, 35],\n",
    "        'Ciudad': ['Madrid', 'Barcelona', 'Valencia']}\n",
    "df = pd.DataFrame(data)\n",
    "print(df)\n"
   ]
  },
  {
   "cell_type": "markdown",
   "id": "25929b24",
   "metadata": {},
   "source": [
    "# Series:\n",
    "Una Serie es una estructura de datos unidimensional que puede contener cualquier tipo de datos, similar a un array de una dimensión en NumPy. Una Serie también tiene un índice asociado que etiqueta cada elemento en la serie.\n",
    "\n",
    "Ejemplo de creación de una Serie:\n",
    "\n",
    "```python\n",
    "import pandas as pd\n",
    "\n",
    "data = [10, 20, 30, 40, 50]\n",
    "s = pd.Series(data)\n",
    "print(s)\n",
    "```\n",
    "\n",
    "### Diferencias entre DataFrame y Series:\n",
    "- Un DataFrame es una estructura de datos bidimensional, mientras que una Serie es unidimensional.\n",
    "- Un DataFrame puede contener múltiples columnas con diferentes tipos de datos, mientras que una Serie contiene un solo tipo de datos.\n",
    "- Un DataFrame se puede visualizar como una tabla, mientras que una Serie se asemeja a una columna en esa tabla.\n",
    "\n",
    "### Ejemplos de uso de Pandas:\n",
    "- Cargar datos desde un archivo CSV o una base de datos y explorarlos.\n",
    "- Limpiar y preprocesar datos, como eliminar valores nulos o duplicados.\n",
    "- Realizar operaciones de filtrado, selección y agrupación de datos.\n",
    "- Calcular estadísticas descriptivas, como la media, la mediana y la desviación estándar.\n",
    "- Visualizar datos utilizando gráficos y diagramas.\n",
    "\n",
    "Pandas es una herramienta poderosa y versátil para el análisis de datos en Python, y su facilidad de uso la hace ideal tanto para principiantes como para usuarios avanzados.\n"
   ]
  },
  {
   "cell_type": "markdown",
   "id": "630afc99",
   "metadata": {},
   "source": [
    "## Métodos Comunes en Pandas para Manipulación de Datos\n",
    "\n",
    "1. **Lectura de Datos:**\n",
    "   - `pd.read_csv()`: Lee datos de un archivo CSV y los carga en un DataFrame.\n",
    "   ```python\n",
    "   import pandas as pd\n",
    "   df = pd.read_csv('data.csv')\n",
    "\n",
    "##Exploración de Datos:\n",
    "```python \n",
    "df.head(): Muestra las primeras filas del DataFrame.\n",
    "python\n",
    "\n",
    "print(df.head())\n",
    "\n",
    "# Selección de Datos:\n",
    "\n",
    "df.loc[]: Selecciona filas y columnas por etiqueta.\n",
    "python\n",
    "\n",
    "print(df.loc[0])  # Selecciona la primera fila\n",
    "df.iloc[]: Selecciona filas y columnas por posición.\n",
    "python\n",
    "\n",
    "print(df.iloc[0])  # Selecciona la primera fila\n",
    "Filtrado de Datos:\n",
    "\n",
    "df[df['columna'] > valor]: Filtra filas basadas en una condición.\n",
    "python\n",
    "\n",
    "print(df[df['edad'] > 30])  # Filtra las filas donde la edad sea mayor a 30\n",
    "Agregación de Datos:\n",
    "\n",
    "df.groupby(): Agrupa filas según una o más columnas y aplica una función de agregación.\n",
    "python\n",
    "\n",
    "print(df.groupby('ciudad')['ingresos'].mean())  # Calcula el ingreso medio por ciudad\n",
    "Limpieza de Datos:\n",
    "\n",
    "df.dropna(): Elimina filas o columnas con valores nulos.\n",
    "python\n",
    "\n",
    "print(df.dropna())  # Elimina filas con valores nulos\n",
    "Concatenación de DataFrames:\n",
    "\n",
    "pd.concat(): Concatena dos o más DataFrames a lo largo de filas o columnas.\n",
    "python\n",
    "\n",
    "df_concat = pd.concat([df1, df2])  # Concatena df1 y df2\n",
    "Escritura de Datos:\n",
    "\n",
    "df.to_csv(): Guarda el DataFrame en un archivo CSV.\n",
    "python\n",
    "\n",
    "df.to_csv('nuevo_data.csv', index=False)  # Guarda el DataFrame en un archivo CSV\n",
    "Estos son solo algunos ejemplos de los muchos métodos disponibles en Pandas para la manipulación de datos. Cada método tiene su propia funcionalidad y se puede utilizar según los requisitos específicos del análisis de datos\n",
    "\n",
    "```"
   ]
  },
  {
   "cell_type": "markdown",
   "id": "bf62b2ae",
   "metadata": {},
   "source": [
    "# Revisar lamina 110.\n",
    "Para verificar dependencias adicionales necesarias para usar pandas.\n",
    "\n",
    "| Para el cálculo                     |                                                             |\n",
    "|------------------------------------|-------------------------------------------------------------|\n",
    "| Scipy                              | Funciones estadísticas diversas                              |\n",
    "| numba                              | Motor de ejecución alternativo para operaciones de laminación |\n",
    "| Funcionamiento de Excel            |                                                             |\n",
    "| xlrd                               | Lectura de Excel                                            |\n",
    "| xlwt                               | Escribir Excel                                               |\n",
    "| xlsxwriter                         | Escribir Excel                                               |\n",
    "| openpyxl                           | Lectura / escritura de archivos xlsx                         |\n",
    "| pyxlsb                             | Lectura de ficheros xlsb                                    |\n",
    "| Operación HTML                     |                                                             |\n",
    "| BeautifulSoup4                     | Analizador HTML para read_html                               |\n",
    "| html5lib                           | analizador HTML para read_html                               |\n",
    "| lxml                               | analizador HTML para read_html                               |\n",
    "| Operación XML                      |                                                             |\n",
    "| lxml                               | analizador XML para read_xml y constructor de árboles para to_xml |\n",
    "| Visualización de datos             |                                                             |\n",
    "| matplotlib                         | Biblioteca de ploteo                                        |\n",
    "| seaborn                            | Biblioteca de visualización de datos de Python basada en matplotlib. Proporciona una interfaz de alto nivel para dibujar gráficos estadísticos atractivos e informativos. |\n",
    "| Base de datos SQL                  |                                                             |\n",
    "| SQLAlchemy                         | Soporte SQL para bases de datos distintas de sqlite         |\n",
    "| psycopg2                           | Motor PostgreSQL para sqlalchemy                            |\n",
    "| pymysql                            | Motor MySQL para sqlalchemy                                 |\n"
   ]
  },
  {
   "cell_type": "markdown",
   "id": "1de2adde",
   "metadata": {},
   "source": [
    "# Creacion de series, segun diferentes entradas."
   ]
  },
  {
   "cell_type": "code",
   "execution_count": 2,
   "id": "9d48656d",
   "metadata": {},
   "outputs": [],
   "source": [
    "import pandas as pd\n",
    "import numpy as np\n",
    "\n",
    "# Creación mediante una lista\n",
    "lista = [10, 20, 30, 40, 50]\n",
    "serie_lista = pd.Series(lista)\n",
    "print(\"Serie creada a partir de una lista:\")\n",
    "print(serie_lista)\n",
    "\n",
    "# Creación mediante un diccionario\n",
    "diccionario = {'a': 100, 'b': 200, 'c': 300, 'd': 400, 'e': 500}\n",
    "serie_diccionario = pd.Series(diccionario)\n",
    "print(\"\\nSerie creada a partir de un diccionario:\")\n",
    "print(serie_diccionario)\n",
    "\n",
    "# Creación mediante un arreglo NumPy\n",
    "arreglo = np.array([1, 2, 3, 4, 5])\n",
    "serie_arreglo = pd.Series(arreglo)\n",
    "print(\"\\nSerie creada a partir de un arreglo NumPy:\")\n",
    "print(serie_arreglo)\n",
    "\n",
    "# Creación de una serie usando un valor escalar\n",
    "valor_escalar = 7\n",
    "serie_escalar = pd.Series(valor_escalar, index=['a', 'b', 'c', 'd', 'e'])\n",
    "print(\"\\nSerie creada a partir de un valor escalar:\")\n",
    "print(serie_escalar)\n"
   ]
  },
  {
   "cell_type": "markdown",
   "id": "7f3c5734",
   "metadata": {},
   "source": [
    "# Creacion de serie temporal.\n",
    "\n",
    "- `pd.date_range()` se utiliza para generar un rango de fechas con una frecuencia específica. Los parámetros `start` y `end` especifican el inicio y el fin del rango de fechas, respectivamente. El parámetro `freq` especifica la frecuencia de las fechas, en este caso, 'D' para días.\n",
    "- Se crea una serie llamada `serie_fechas` utilizando las fechas generadas como índices y valores aleatorios.\n",
    "\n",
    "El método `pd.date_range()` tiene diferentes variaciones en su uso:\n",
    "\n",
    "1. `pd.date_range(start, end, freq)`: Genera un rango de fechas desde `start` hasta `end` con la frecuencia especificada por `freq`.\n",
    "2. `pd.date_range(start, periods, freq)`: Genera un rango de fechas con una cantidad específica de períodos a partir de `start` con la frecuencia especificada por `freq`.\n",
    "3. `pd.date_range(end, periods, freq)`: Genera un rango de fechas con una cantidad específica de períodos antes de `end` con la frecuencia especificada por `freq`.\n",
    "\n",
    "Estas son algunas de las variaciones comunes que se pueden utilizar para generar rangos de fechas con diferentes frecuencias y configuraciones.\n"
   ]
  },
  {
   "cell_type": "code",
   "execution_count": null,
   "id": "12764353",
   "metadata": {},
   "outputs": [],
   "source": [
    "# Creacion de serie temporal\n",
    "\n",
    "import pandas as pd\n",
    "\n",
    "# Crear un rango de fechas con frecuencia diaria\n",
    "fechas = pd.date_range(start='2022-01-01', end='2022-01-05', freq='D')\n",
    "\n",
    "# Crear una serie con las fechas como índices y valores aleatorios\n",
    "valores = [10, 20, 30, 40, 50]\n",
    "serie_fechas = pd.Series(valores, index=fechas)\n",
    "\n",
    "print(\"Serie con fechas como índices:\")\n",
    "print(serie_fechas)\n"
   ]
  },
  {
   "cell_type": "markdown",
   "id": "ee4e8de9",
   "metadata": {},
   "source": [
    "# Explicacion detallada del metodo describe.\n",
    "\n",
    "Conteo (count):\n",
    "\n",
    "- Proporciona el número de observaciones no nulas en cada columna numérica.\n",
    "- Es importante verificar si hay valores nulos en los datos. Las columnas con recuentos inferiores a la cantidad total de observaciones pueden indicar la presencia de valores faltantes.\n",
    "\n",
    "Media (mean):\n",
    "\n",
    "- Representa el valor promedio de los datos en cada columna numérica.\n",
    "- Indica el punto central de los datos y es útil para comprender la tendencia central de la distribución de los datos.\n",
    "\n",
    "Desviación estándar (std):\n",
    "\n",
    "- Mide la dispersión o la variabilidad de los datos alrededor de la media.\n",
    "- Una desviación estándar más alta indica una mayor dispersión de los datos, mientras que una más baja indica una mayor agrupación alrededor de la media.\n",
    "\n",
    "Valor mínimo (min) y Valor máximo (max):\n",
    "\n",
    "- Representan los valores mínimo y máximo observados en cada columna numérica.\n",
    "- Son útiles para identificar los rangos de los datos y cualquier valor atípico (outlier) potencial.\n",
    "\n",
    "Cuartiles (25%, 50% y 75%):\n",
    "\n",
    "- Los cuartiles dividen el conjunto de datos en cuatro partes iguales.\n",
    "- El percentil 50% (o mediana) indica el valor que divide los datos en dos partes iguales. Es útil para comprender la dispersión de los datos y la presencia de sesgo.\n",
    "\n",
    "Opcionalmente, percentiles adicionales (opcional):\n",
    "\n",
    "- El método `describe()` también puede incluir otros percentiles, como el 10%, el 90%, etc., que proporcionan más detalles sobre la distribución de los datos.\n",
    "- Estos percentiles adicionales pueden ser útiles para identificar valores atípicos o comprender mejor la forma de la distribución de los datos.\n",
    "\n",
    "En resumen, el método `describe()` en pandas proporciona una visión general completa de las estadísticas descriptivas de las columnas numéricas en un DataFrame, lo que ayuda a entender rápidamente la distribución y las características de los datos. Es una herramienta fundamental en el proceso de análisis exploratorio de datos.\n"
   ]
  },
  {
   "cell_type": "markdown",
   "id": "b8289b3a",
   "metadata": {},
   "source": [
    "## El método `info()`\n",
    "\n",
    "en un DataFrame de pandas proporciona una descripción concisa de la estructura y la composición del DataFrame. Esta función es útil para obtener una visión general rápida de los datos, incluidos el tipo de datos, la cantidad de valores no nulos y la cantidad de memoria utilizada.\n",
    "\n",
    "El resultado de `info()` incluye las siguientes partes:\n",
    "\n",
    "1. **Nombre del DataFrame**: Muestra el nombre del DataFrame si está asignado.\n",
    "2. **Tipo de datos de las columnas**: Para cada columna, muestra el tipo de datos (por ejemplo, int, float, object) y la cantidad total de columnas.\n",
    "3. **Cantidad de valores no nulos**: Muestra la cantidad de valores no nulos en cada columna.\n",
    "4. **Uso de memoria**: Proporciona una estimación del uso de memoria por parte del DataFrame.\n",
    "\n",
    "El método `info()` es especialmente útil al trabajar con conjuntos de datos grandes, ya que permite identificar rápidamente el tipo de datos y la cantidad de valores no nulos en cada columna. Esto puede ayudar a diagnosticar problemas de memoria y a comprender mejor la estructura de los datos.\n",
    "\n",
    "En resumen, `info()` es una herramienta fundamental en el análisis exploratorio de datos en pandas, ya que proporciona una descripción detallada pero concisa de la estructura del DataFrame.\n"
   ]
  },
  {
   "cell_type": "markdown",
   "id": "72f6e089",
   "metadata": {},
   "source": [
    "## Uso del metodo iloc\n",
    "\n"
   ]
  },
  {
   "cell_type": "code",
   "execution_count": 6,
   "id": "b42a2b0e",
   "metadata": {},
   "outputs": [
    {
     "name": "stdout",
     "output_type": "stream",
     "text": [
      "   B  C\n",
      "0  4  7\n",
      "1  5  8\n",
      "2  6  9\n",
      "   A  B\n",
      "0  1  4\n",
      "1  2  5\n",
      "2  3  6\n"
     ]
    }
   ],
   "source": [
    "import pandas as pd\n",
    "\n",
    "# Crear un DataFrame de ejemplo\n",
    "data = {'A': [1, 2, 3], 'B': [4, 5, 6], 'C': [7, 8, 9]}\n",
    "df = pd.DataFrame(data)\n",
    "\n",
    "# Seleccionar la primera fila y segunda columna\n",
    "print(df.iloc[0:, 1:])  # Salida: 4\n",
    "\n",
    "# Seleccionar todas las filas y las primeras dos columnas\n",
    "print(df.iloc[:, :2])  # Salida: DataFrame con las primeras dos columnas"
   ]
  },
  {
   "cell_type": "markdown",
   "id": "b606e9bf",
   "metadata": {},
   "source": [
    "# Metodo loc"
   ]
  },
  {
   "cell_type": "code",
   "execution_count": 7,
   "id": "b9267390",
   "metadata": {},
   "outputs": [
    {
     "name": "stdout",
     "output_type": "stream",
     "text": [
      "A    2\n",
      "B    5\n",
      "C    8\n",
      "Name: Y, dtype: int64\n",
      "X    4\n",
      "Y    5\n",
      "Z    6\n",
      "Name: B, dtype: int64\n"
     ]
    }
   ],
   "source": [
    "import pandas as pd\n",
    "\n",
    "# Crear un DataFrame de ejemplo con índices personalizados\n",
    "data = {'A': [1, 2, 3], 'B': [4, 5, 6], 'C': [7, 8, 9]}\n",
    "df = pd.DataFrame(data, index=['X', 'Y', 'Z'])\n",
    "\n",
    "# Seleccionar la fila con etiqueta 'Y' y todas las columnas\n",
    "print(df.loc['Y'])  # Salida: Serie con los valores de la fila 'Y'\n",
    "\n",
    "# Seleccionar todas las filas y la columna 'B'\n",
    "print(df.loc[:, 'B'])  # Salida: Serie con los valores de la columna 'B'\n"
   ]
  },
  {
   "cell_type": "markdown",
   "id": "56929efc",
   "metadata": {},
   "source": [
    "### Comentarios adicionales:\n",
    "- La principal diferencia radica en cómo se especifican los elementos a seleccionar: enteros para `iloc` y etiquetas para `loc`.\n",
    "- Es importante tener en cuenta estas diferencias al seleccionar datos, especialmente cuando se utilizan etiquetas numéricas o índices enteros.\n"
   ]
  },
  {
   "cell_type": "markdown",
   "id": "80686aaa",
   "metadata": {},
   "source": [
    "# Estadistica descriptiva que permite usar pandas\n",
    "\n",
    "| Método          | Estadísticas Descriptivas                                                                                                             |\n",
    "|-----------------|--------------------------------------------------------------------------------------------------------------------------------------|\n",
    "| `describe()`    | Count, Mean, Std, Min, 25%, 50% (Median), 75%, Max                                                                                   |\n",
    "| `count()`       | Count (Conteo de observaciones no nulas)                                                                                              |\n",
    "| `mean()`        | Mean (Media)                                                                                                                         |\n",
    "| `std()`         | Std (Desviación estándar)                                                                                                            |\n",
    "| `min()`         | Min (Valor mínimo)                                                                                                                   |\n",
    "| `max()`         | Max (Valor máximo)                                                                                                                   |\n",
    "| `quantile(q)`   | Percentiles (especificados por `q`, por ejemplo, `0.25` para el cuartil 25%, `0.5` para la mediana, `0.75` para el cuartil 75%)      |\n",
    "| `median()`      | 50% (Percentil 50%, equivalente a la mediana)                                                                                        |\n",
    "| `var()`         | Var (Varianza)                                                                                                                       |\n",
    "| `mad()`         | Mad (Desviación absoluta de la media)                                                                                                |\n",
    "| `skew()`        | Skew (Asimetría)                                                                                                                     |\n",
    "| `kurt()`        | Kurt (Curtosis)                                                                                                                      |\n",
    "| `sum()`         | Sum (Suma de los valores)                                                                                                            |\n",
    "| `cumsum()`      | CumSum (Suma acumulativa de los valores)                                                                                             |\n",
    "| `prod()`        | Prod (Producto de los valores)                                                                                                       |\n",
    "| `cumprod()`     | CumProd (Producto acumulativo de los valores)                                                                                         |\n"
   ]
  },
  {
   "cell_type": "markdown",
   "id": "ba35ca18",
   "metadata": {},
   "source": [
    "# Ejemplo de creacion de grafico de barras usando pandas y matplotlib"
   ]
  },
  {
   "cell_type": "code",
   "execution_count": 11,
   "id": "bf51d30b",
   "metadata": {},
   "outputs": [
    {
     "data": {
      "image/png": "[encoded data removed]",
      "text/plain": [
       "<Figure size 640x480 with 1 Axes>"
      ]
     },
     "metadata": {},
     "output_type": "display_data"
    }
   ],
   "source": [
    "\n",
    "import pandas as pd\n",
    "import matplotlib.pyplot as plt\n",
    "\n",
    "# Crear un DataFrame de ejemplo\n",
    "data = {'País': ['USA', 'China', 'India', 'Rusia', 'Japón'],\n",
    "        'Población (millones)': [328, 1441, 1380, 145, 126],\n",
    "        'PIB (billones USD)': [21.43, 14.34, 2.94, 1.70, 5.15]}\n",
    "\n",
    "df = pd.DataFrame(data)\n",
    "\n",
    "# Graficar barras de población\n",
    "df.plot(kind='bar', x='País', y='Población (millones)', color='skyblue')\n",
    "\n",
    "# Título y etiquetas\n",
    "plt.title('Población por País')\n",
    "plt.xlabel('País')\n",
    "plt.ylabel('Población (millones)')\n",
    "\n",
    "# Mostrar el gráfico\n",
    "plt.show()\n"
   ]
  },
  {
   "cell_type": "markdown",
   "id": "79963e35",
   "metadata": {},
   "source": [
    "# Grafica de informacion proveniente de datareader"
   ]
  },
  {
   "cell_type": "code",
   "execution_count": 10,
   "id": "25691eb5",
   "metadata": {},
   "outputs": [
    {
     "ename": "ModuleNotFoundError",
     "evalue": "No module named 'matplotlib'",
     "output_type": "error",
     "traceback": [
      "\u001b[0;31m---------------------------------------------------------------------------\u001b[0m",
      "\u001b[0;31mModuleNotFoundError\u001b[0m                       Traceback (most recent call last)",
      "Cell \u001b[0;32mIn[10], line 2\u001b[0m\n\u001b[1;32m      1\u001b[0m \u001b[38;5;28;01mimport\u001b[39;00m \u001b[38;5;21;01mpandas\u001b[39;00m \u001b[38;5;28;01mas\u001b[39;00m \u001b[38;5;21;01mpd\u001b[39;00m\n\u001b[0;32m----> 2\u001b[0m \u001b[38;5;28;01mimport\u001b[39;00m \u001b[38;5;21;01mmatplotlib\u001b[39;00m\u001b[38;5;21;01m.\u001b[39;00m\u001b[38;5;21;01mpyplot\u001b[39;00m \u001b[38;5;28;01mas\u001b[39;00m \u001b[38;5;21;01mplt\u001b[39;00m\n\u001b[1;32m      3\u001b[0m \u001b[38;5;28;01mfrom\u001b[39;00m \u001b[38;5;21;01mpandas_datareader\u001b[39;00m \u001b[38;5;28;01mimport\u001b[39;00m data\n\u001b[1;32m      5\u001b[0m \u001b[38;5;66;03m# Obtener datos financieros de Google (GOOG) desde 2020-01-01 hasta 2022-01-01\u001b[39;00m\n",
      "\u001b[0;31mModuleNotFoundError\u001b[0m: No module named 'matplotlib'"
     ]
    }
   ],
   "source": [
    "import pandas as pd\n",
    "import matplotlib.pyplot as plt\n",
    "from pandas_datareader import data\n",
    "\n",
    "# Obtener datos financieros de Google (GOOG) desde 2020-01-01 hasta 2022-01-01\n",
    "start_date = '2020-01-01'\n",
    "end_date = '2022-01-01'\n",
    "goog_data = data.DataReader('GOOG', 'yahoo', start_date, end_date)\n",
    "\n",
    "# Graficar el precio de cierre ajustado a lo largo del tiempo\n",
    "goog_data['Adj Close'].plot(figsize=(10, 6), color='b')\n",
    "plt.title('Precio de Cierre Ajustado de Google (GOOG)')\n",
    "plt.xlabel('Fecha')\n",
    "plt.ylabel('Precio de Cierre Ajustado (USD)')\n",
    "plt.grid(True)\n",
    "plt.show()\n"
   ]
  },
  {
   "cell_type": "markdown",
   "id": "be5d9b39",
   "metadata": {},
   "source": [
    "## Recrear ejemplo que empieza en la presentacion 280."
   ]
  },
  {
   "cell_type": "code",
   "execution_count": null,
   "id": "929b6e40",
   "metadata": {},
   "outputs": [],
   "source": [
    "# Ejemplo del uso del metodo counts\n",
    "\n",
    "import pandas as pd\n",
    "\n",
    "# Definir una Serie de calificaciones\n",
    "grades = pd.Series(['A', 'B', 'A', 'C', 'B', 'A', 'A', 'B', 'C', 'A'])\n",
    "\n",
    "# Contar los valores únicos y mostrar los conteos\n",
    "value_counts = grades.value_counts()\n",
    "\n",
    "# Mostrar los resultados\n",
    "print(\"Conteo de calificaciones:\")\n",
    "print(value_counts)\n"
   ]
  },
  {
   "cell_type": "code",
   "execution_count": null,
   "id": "11d79939",
   "metadata": {},
   "outputs": [],
   "source": [
    "# Verificacion de correlacion entre variables\n",
    "\n",
    "import pandas as pd\n",
    "\n",
    "# Creamos un DataFrame de ejemplo\n",
    "data = {\n",
    "    'A': [1, 2, 3, 4, 5],\n",
    "    'B': [2, 4, 6, 8, 10],\n",
    "    'C': [5, 4, 3, 2, 1]\n",
    "}\n",
    "df = pd.DataFrame(data)\n",
    "\n",
    "# Calculamos la correlación entre las columnas del DataFrame\n",
    "correlation_matrix = df.corr()\n",
    "\n",
    "# Mostramos la matriz de correlación\n",
    "print(\"Matriz de correlación:\")\n",
    "print(correlation_matrix)\n"
   ]
  },
  {
   "cell_type": "markdown",
   "id": "1c9c226d",
   "metadata": {},
   "source": [
    "Una de las mejores formas de buscar datos faltantes en un conjunto de datos en Python es utilizando el método `isnull()` de Pandas. Este método devuelve un DataFrame booleano donde se indica con `True` aquellos valores que son nulos (NaN) y con `False` aquellos que no lo son. Luego, puedes combinar este método con otros métodos como `sum()` para obtener el recuento total de valores nulos en cada columna, o `any()` para verificar si hay al menos un valor nulo en cada columna.\n",
    "\n",
    "Aquí hay un ejemplo de cómo usar `isnull()` para encontrar datos faltantes y `sum()` para obtener el recuento total de valores nulos en cada columna:\n",
    "\n",
    "```python\n",
    "import pandas as pd\n",
    "\n",
    "# Cargar el conjunto de datos\n",
    "df = pd.read_csv('dataset.csv')\n",
    "\n",
    "# Encontrar datos faltantes\n",
    "missing_data = df.isnull()\n",
    "\n",
    "# Contar el número de datos faltantes en cada columna\n",
    "missing_count = missing_data.sum()\n",
    "\n",
    "# Mostrar el resultado\n",
    "print(\"Número de datos faltantes en cada columna:\")\n",
    "print(missing_count)\n",
    "Una vez identificados los datos faltantes, es importante considerar cómo manejarlos. Algunas estrategias comunes para tratar con datos faltantes incluyen:\n",
    "\n",
    "Eliminar las filas o columnas que contienen datos faltantes utilizando el método dropna() de Pandas.\n",
    "Imputar valores faltantes utilizando métodos como la media, la mediana o el valor más frecuente de la columna utilizando el método fillna() de Pandas.\n",
    "Utilizar técnicas más avanzadas como la imputación basada en modelos, donde se utiliza información de otras variables para predecir los valores faltantes.\n",
    "La elección del método de tratamiento de datos faltantes depende del contexto del problema y del impacto que pueda tener en el análisis posterior de los datos. Es importante evaluar cuidadosamente cada opción y seleccionar la que sea más apropiada para el conjunto de datos y los objetivos del análisis."
   ]
  },
  {
   "cell_type": "markdown",
   "id": "3ae9808e",
   "metadata": {},
   "source": [
    "# Uso de box plots y su significado.\n",
    "\n",
    "El box plot, también conocido como diagrama de caja y bigotes, es una herramienta gráfica utilizada en estadística para representar la distribución de un conjunto de datos y visualizar medidas de resumen como la mediana, los cuartiles y los valores atípicos. En Pandas, se puede generar un box plot fácilmente utilizando el método boxplot().\n",
    "\n",
    "El box plot se compone de varios elementos clave:\n",
    "\n",
    "Caja (Box): La caja en el centro del gráfico representa el rango intercuartílico (IQR), que abarca desde el primer cuartil (Q1) hasta el tercer cuartil (Q3). El ancho de la caja muestra la dispersión de los datos en esta área central.\n",
    "\n",
    "Línea central (Mediana): La línea dentro de la caja representa la mediana del conjunto de datos, que es el valor que divide el conjunto de datos en dos mitades iguales.\n",
    "\n",
    "Bigotes (Whiskers): Los bigotes se extienden desde la caja hasta los valores extremos que no son considerados valores atípicos. Pueden tener diferentes longitudes dependiendo de la implementación y el método de cálculo de valores atípicos.\n",
    "\n",
    "Valores atípicos (Outliers): Los valores que se encuentran más allá de los extremos de los bigotes se consideran valores atípicos y se muestran como puntos individuales.\n",
    "\n",
    "Cuartiles (Q1, Q2, Q3): Los cuartiles dividen el conjunto de datos en cuatro partes iguales. Q1 representa el primer cuartil (25º percentil), Q2 representa la mediana (50º percentil) y Q3 representa el tercer cuartil (75º percentil).\n",
    "\n"
   ]
  },
  {
   "cell_type": "code",
   "execution_count": 1,
   "id": "698cf86c",
   "metadata": {},
   "outputs": [
    {
     "data": {
      "image/png": "[encoded data removed]",
      "text/plain": [
       "<Figure size 800x600 with 1 Axes>"
      ]
     },
     "metadata": {},
     "output_type": "display_data"
    }
   ],
   "source": [
    "import pandas as pd\n",
    "import numpy as np\n",
    "import matplotlib.pyplot as plt\n",
    "\n",
    "# Crear un DataFrame con datos aleatorios\n",
    "np.random.seed(0)\n",
    "data = pd.DataFrame(np.random.normal(loc=0, scale=1, size=(100, 3)), columns=['A', 'B', 'C'])\n",
    "\n",
    "# Generar el box plot\n",
    "plt.figure(figsize=(8, 6))\n",
    "boxplot = data.boxplot()\n",
    "\n",
    "# Añadir título y etiquetas\n",
    "plt.title('Box Plot de Datos Aleatorios')\n",
    "plt.xlabel('Variables')\n",
    "plt.ylabel('Valores')\n",
    "\n",
    "# Mostrar el gráfico\n",
    "plt.show()\n"
   ]
  },
  {
   "cell_type": "markdown",
   "id": "881fae9e",
   "metadata": {},
   "source": [
    "# Calculo de correlacion y metodos utilizados.\n",
    "\n",
    "Pandas proporciona varios métodos para calcular la correlación entre variables en un DataFrame. Los tres métodos más comunes son Pearson, Kendall y Spearman. Aquí te explico cómo funcionan y cuáles son las diferencias entre ellos:\n",
    "\n",
    "### Correlación de Pearson:\n",
    "\n",
    "- La correlación de Pearson mide la relación lineal entre dos variables continuas.\n",
    "- Su valor varía entre -1 y 1, donde 1 indica una correlación positiva perfecta, -1 indica una correlación negativa perfecta y 0 indica una ausencia de correlación lineal.\n",
    "- Es sensible a las desviaciones y valores atípicos.\n",
    "- Se calcula utilizando la covarianza de las variables dividida por el producto de sus desviaciones estándar.\n",
    "- Es el método de correlación predeterminado en Pandas.\n",
    "- Se calcula con el método corr() sin especificar ningún parámetro adicional.\n",
    "\n",
    "### Correlación de Kendall:\n",
    "\n",
    "- La correlación de Kendall mide la correlación de rango entre dos variables.\n",
    "- Es adecuada para variables ordinales o cuando las relaciones entre variables no son lineales.\n",
    "- Su valor varía entre -1 y 1, donde 1 indica una correlación perfecta, -1 indica una correlación perfecta inversa y 0 indica ninguna correlación.\n",
    "- Es menos sensible a los valores atípicos que la correlación de Pearson.\n",
    "- Se calcula contando el número de concordancias y discordancias entre los rangos de dos variables.\n",
    "- Se calcula con el método corr() especificando el parámetro method='kendall'.\n",
    "\n",
    "### Correlación de Spearman:\n",
    "\n",
    "- La correlación de Spearman es similar a la correlación de Kendall, pero utiliza los rangos de los datos en lugar de sus valores brutos.\n",
    "- Es adecuada para variables ordinales o cuando las relaciones entre variables no son lineales.\n",
    "- Su valor varía entre -1 y 1, donde 1 indica una correlación perfecta, -1 indica una correlación perfecta inversa y 0 indica ninguna correlación.\n",
    "- Es menos sensible a los valores atípicos que la correlación de Pearson.\n",
    "- Se calcula utilizando la misma fórmula que la correlación de Kendall, pero con los rangos de los datos.\n",
    "- Se calcula con el método corr() especificando el parámetro method='spearman'.\n",
    "\n",
    "En resumen, la correlación de Pearson es adecuada para variables continuas y lineales, mientras que la correlación de Kendall y la de Spearman son más adecuadas para variables ordinales o cuando las relaciones entre variables no son lineales. La elección entre estos métodos depende de la naturaleza de los datos y el tipo de relación que se está buscando.\n"
   ]
  },
  {
   "cell_type": "markdown",
   "id": "2c445f05",
   "metadata": {},
   "source": [
    "### Media (Promedio):\n",
    "\n",
    "- La media es una medida de tendencia central que representa el valor promedio de un conjunto de datos.\n",
    "- Se calcula sumando todos los valores y dividiendo por el número total de observaciones.\n",
    "- Es sensible a los valores atípicos ya que utiliza todos los valores en el cálculo.\n",
    "- Es útil para comprender la ubicación central de los datos.\n",
    "\n",
    "### Mediana:\n",
    "\n",
    "- La mediana es el valor que separa el conjunto de datos en dos partes iguales, con el 50% de los datos por encima y el 50% por debajo.\n",
    "- Es menos sensible a los valores atípicos que la media, ya que no depende de todos los valores en el conjunto de datos.\n",
    "- Es útil cuando hay valores extremos o distribuciones sesgadas.\n",
    "\n",
    "### Moda:\n",
    "\n",
    "- La moda es el valor que aparece con mayor frecuencia en un conjunto de datos.\n",
    "- Puede haber una moda única, múltiples modas o ninguna moda en un conjunto de datos.\n",
    "- Es útil para identificar los valores más comunes en un conjunto de datos.\n",
    "\n",
    "### Varianza:\n",
    "\n",
    "- La varianza es una medida de dispersión que indica qué tan dispersos están los valores con respecto a la media.\n",
    "- Se calcula como la media de los cuadrados de las diferencias entre cada valor y la media.\n",
    "- Es útil para comprender la dispersión de los datos, pero puede ser difícil de interpretar debido a que está en unidades cuadradas.\n",
    "\n",
    "### Desviación Estándar:\n",
    "\n",
    "- La desviación estándar es la raíz cuadrada de la varianza y proporciona una medida de dispersión en las mismas unidades que los datos originales.\n",
    "- Es una medida más intuitiva de la dispersión que la varianza, ya que está en las mismas unidades que los datos originales.\n",
    "- Es útil para comprender la dispersión de los datos y es más interpretable que la varianza.\n",
    "\n",
    "En resumen, estas estadísticas descriptivas proporcionan información importante sobre la distribución y las características de un conjunto de datos, lo que ayuda a entender mejor los datos y tomar decisiones informadas en el análisis posterior. Cada métrica tiene sus propias ventajas y aplicaciones específicas, y es importante utilizarlas de manera adecuada según el contexto del problema.\n"
   ]
  },
  {
   "cell_type": "markdown",
   "id": "ced0365c",
   "metadata": {},
   "source": [
    "### Covarianza:\n",
    "\n",
    "La covarianza es una medida que indica la relación entre dos variables aleatorias. Específicamente, indica cómo varían simultáneamente dos variables en relación con sus medias.\n",
    "\n",
    "- **Covarianza Positiva:** Si dos variables tienden a aumentar o disminuir juntas, la covarianza es positiva. Esto significa que cuando una variable tiene un valor por encima (o por debajo) de su media, la otra variable también tiende a tener un valor por encima (o por debajo) de su media.\n",
    "  \n",
    "- **Covarianza Negativa:** Si una variable tiende a aumentar cuando la otra disminuye, y viceversa, la covarianza es negativa. Esto indica que cuando una variable tiene un valor por encima (o por debajo) de su media, la otra variable tiende a tener un valor por debajo (o por encima) de su media.\n",
    "\n",
    "- **Covarianza Cero:** Si no hay relación discernible entre las dos variables, la covarianza es cero. Esto no significa que no haya relación entre las variables, solo que no hay relación lineal. Es importante tener en cuenta que la covarianza cero no implica independencia entre las variables.\n",
    "\n",
    "La covarianza se calcula mediante la fórmula:\n",
    "\n",
    "cov(X, Y) = Σ [(Xᵢ - μₓ) * (Yᵢ - μᵧ)] / n\n",
    "\n",
    "\n",
    "\n",
    "donde:\n",
    "- X, Y son las variables aleatorias.\n",
    "- μₓ, μᵧ son las medias de X e Y, respectivamente.\n",
    "- n es el número de observaciones.\n",
    "\n",
    "La covarianza es una herramienta útil para comprender la relación entre variables en un conjunto de datos. Sin embargo, puede ser difícil de interpretar en términos absolutos debido a que su magnitud depende de las unidades de las variables. Por lo tanto, es más comúnmente utilizada en relación con la varianza y el coeficiente de correlación para comprender mejor la relación entre variables.\n",
    "\n"
   ]
  },
  {
   "cell_type": "markdown",
   "id": "245a3b82",
   "metadata": {},
   "source": [
    "# Diferencias entre covarianza y correlacion\n",
    "\n",
    "1. Covarianza:\n",
    "\n",
    "- La covarianza mide la dirección de la relación lineal entre dos variables.\n",
    "- Puede tomar valores positivos, negativos o cero.\n",
    "- Un valor positivo indica que cuando una variable aumenta, la otra también tiende a aumentar.\n",
    "- Un valor negativo indica que cuando una variable aumenta, la otra tiende a disminuir.\n",
    "- Un valor de cero indica que no hay una relación lineal entre las dos variables.\n",
    "- Sin embargo, la covarianza no está normalizada y su magnitud depende de las unidades en las que se miden las variables.\n",
    "- La covarianza no proporciona información sobre la fuerza de la relación entre las variables, solo sobre la dirección.\n",
    "\n",
    "2. Correlación:\n",
    "\n",
    "- La correlación es una versión estandarizada de la covarianza que varía entre -1 y 1.\n",
    "- Una correlación de 1 indica una correlación positiva perfecta, es decir, cuando una variable aumenta, la otra también aumenta en proporción constante.\n",
    "- Una correlación de -1 indica una correlación negativa perfecta, es decir, cuando una variable aumenta, la otra disminuye en proporción constante.\n",
    "- Una correlación de 0 indica una ausencia de correlación lineal entre las variables.\n",
    "- La correlación es independiente de las unidades en las que se miden las variables y proporciona una medida más clara y fácilmente interpretable de la relación entre las variables.\n",
    "- Es una medida más robusta para comparar la fuerza de la relación entre diferentes pares de variables.\n",
    "\n",
    "En resumen, mientras que la covarianza proporciona información sobre la dirección de la relación entre dos variables, la correlación proporciona información adicional sobre la fuerza y la naturaleza lineal de esa relación, lo que la hace más útil y fácilmente interpretable en muchas aplicaciones.\n"
   ]
  },
  {
   "cell_type": "markdown",
   "id": "09d2411b",
   "metadata": {},
   "source": [
    "# Seleccion de metodos para calcular correlacion.\n",
    "\n",
    "\n",
    "Al seleccionar el método de correlación más adecuado para un conjunto de datos específico, es importante considerar varios factores:\n",
    "\n",
    "1. **Naturaleza de los datos:** Dependiendo de si las variables son continuas o discretas, ordinales o nominales, lineales o no lineales, ciertos métodos de correlación pueden ser más apropiados que otros. Por ejemplo, la correlación de Pearson es adecuada para variables continuas y lineales, mientras que la correlación de Kendall y Spearman son más adecuadas para variables ordinales o no lineales.\n",
    "\n",
    "2. **Distribución de los datos:** Si los datos están sesgados o contienen valores atípicos, la correlación de Spearman o Kendall puede ser más robusta que la correlación de Pearson, ya que estas últimas no dependen de la distribución de los datos.\n",
    "\n",
    "3. **Propósito del análisis:** Si el objetivo es medir la fuerza y la dirección de una relación lineal entre dos variables, la correlación de Pearson es la opción más apropiada. Sin embargo, si se desea analizar la relación de rango o clasificación entre las variables, la correlación de Kendall o Spearman serían más adecuadas.\n",
    "\n",
    "4. **Interpretación de los resultados:** Es importante considerar cómo se interpretarán los resultados de la correlación en el contexto del problema específico. Por ejemplo, si se necesitan medidas de asociación no paramétricas que no dependan de la distribución de los datos, la correlación de Kendall o Spearman serían más adecuadas.\n",
    "\n",
    "En resumen, la selección del método de correlación adecuado depende de la naturaleza de los datos, la distribución de los datos, el propósito del análisis y la interpretación de los resultados. Es importante evaluar estos factores cuidadosamente y seleccionar el método que proporcione los resultados más relevantes y significativos para el problema en cuestión.\n"
   ]
  },
  {
   "cell_type": "code",
   "execution_count": null,
   "id": "93e0856c",
   "metadata": {},
   "outputs": [],
   "source": []
  }
 ],
 "metadata": {
  "kernelspec": {
   "display_name": "sport_env",
   "language": "python",
   "name": "sport_env"
  },
  "language_info": {
   "codemirror_mode": {
    "name": "ipython",
    "version": 3
   },
   "file_extension": ".py",
   "mimetype": "text/x-python",
   "name": "python",
   "nbconvert_exporter": "python",
   "pygments_lexer": "ipython3",
   "version": "3.10.12"
  }
 },
 "nbformat": 4,
 "nbformat_minor": 5
}
